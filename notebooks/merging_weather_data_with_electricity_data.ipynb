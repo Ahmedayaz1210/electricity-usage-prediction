{
 "cells": [
  {
   "cell_type": "markdown",
   "metadata": {},
   "source": [
    "## Testing data types\n",
    "This code cell is basically for testing purposes to see if the data types in temperature datasets match with data types in electricity usage dataset.\n",
    "Since both years and months are integer data types for both of the files, we can confirm that merging them won't give us any problem"
   ]
  },
  {
   "cell_type": "code",
   "execution_count": null,
   "metadata": {},
   "outputs": [],
   "source": [
    "import pandas as pd\n",
    "\n",
    "# For Alabama temperature data\n",
    "al_temp = pd.read_csv('../datasets/state_temperature_data/ohio_cleaned_temperature_data.csv')\n",
    "print(\"\\nAlabama Temperature Data Types:\")\n",
    "print(al_temp.dtypes)\n",
    "print(\"\\nFirst few rows of Alabama Temperature:\")\n",
    "print(al_temp.head())\n",
    "\n",
    "# For electricity usage data\n",
    "elec_usage = pd.read_csv('../datasets/cleaned_electricity_usage_data.csv')\n",
    "print(\"\\nElectricity Usage Data Types:\")\n",
    "print(elec_usage.dtypes)\n",
    "print(\"\\nFirst few rows of Alabama Electricity Usage:\")\n",
    "print(elec_usage[elec_usage['stateDescription'] == 'Alabama'].head())"
   ]
  },
  {
   "cell_type": "markdown",
   "metadata": {},
   "source": [
    "## Testing merging\n",
    "This cell block goes ahead and merges one state \"Alabama\" with the electricity datset's Alabama rows. This is for testing purposes as well before we dive deep into all of temperature datasets and merge them all together with electricity dataset"
   ]
  },
  {
   "cell_type": "code",
   "execution_count": 8,
   "metadata": {},
   "outputs": [],
   "source": [
    "# First load both datasets\n",
    "elec_df = pd.read_csv('../datasets/cleaned_electricity_usage_data.csv')\n",
    "al_temp = pd.read_csv('../datasets/state_temperature_data/alabama_cleaned_temperature_data.csv')\n",
    "\n",
    "# Since we want to merge with state name, let's add state column to temperature data\n",
    "al_temp['stateDescription'] = 'Alabama'\n",
    "\n",
    "# Merge datasets for Alabama only\n",
    "# This keeps all electricity columns and adds temperature at the end\n",
    "test_merge = pd.merge(\n",
    "    elec_df[elec_df['stateDescription'] == 'Alabama'],\n",
    "    al_temp[['year', 'month', 'stateDescription', 'tavg']],\n",
    "    on=['year', 'month', 'stateDescription'],\n",
    "    how='left'\n",
    ")\n",
    "\n",
    "# Rename the temperature column\n",
    "test_merge = test_merge.rename(columns={'tavg': 'average temperature in Fahrenheit'})\n",
    "\n",
    "test_merge.to_csv('../datasets/test.csv', index=False)"
   ]
  },
  {
   "cell_type": "markdown",
   "metadata": {},
   "source": [
    "## Merging all Temperature datasets into one List\n",
    "\n",
    "### Imports\n",
    "Firstly we have all of our imports:\n",
    "\n",
    "pandas for data cleaning and merging\n",
    "\n",
    "glob for taking all the temperature datasets in our \"state_temperature_data\" directory\n",
    "\n",
    "os for helping us navigate the files and extract their names\n",
    "\n",
    "\n",
    "### Load Files\n",
    "\n",
    "Loading our electricity files and temperature files\n",
    "\n",
    "printing first 5's names to see if everything is working\n",
    "\n",
    "### For Loop\n",
    "\n",
    "This is the main function where each file is taken\n",
    "\n",
    "The state's name is extracted from the file name and converted into Upper case to match with our electriticy dataset state names\n",
    "\n",
    "The state from temperature file is matched with the state name from Electricity dataset\n",
    "\n",
    "The state name is added INSIDE the temperature file to merge easily\n",
    "\n",
    ".merge method is what does the main merging by taking both files and doing the merge on = ['year', 'month', 'stateDescription']\n",
    "the parameter how = left means to include all data from Electricity dataset and append temperature column in the end\n",
    "\n",
    "Lastly, the processed state with it's data is merged into merged_states list so it's easier to merge with Electricity dataset later on\n"
   ]
  },
  {
   "cell_type": "code",
   "execution_count": null,
   "metadata": {},
   "outputs": [],
   "source": [
    "import pandas as pd\n",
    "import glob\n",
    "import os\n",
    "\n",
    "# 1. Read the main electricity usage data\n",
    "elec_df = pd.read_csv('../datasets/cleaned_electricity_usage_data.csv')\n",
    "\n",
    "# 2. Get list of all state temperature files\n",
    "state_files = glob.glob('../datasets/state_temperature_data/*_cleaned_temperature_data.csv')\n",
    "\n",
    "# Print to check if we're finding the files\n",
    "print(f\"Found {len(state_files)} state files:\")\n",
    "print(state_files[:5])  # Print first 5 files to verify\n",
    "\n",
    "# 3. Create empty list to store merged data for each state\n",
    "merged_states = []\n",
    "\n",
    "# 4. Loop through each state file\n",
    "for state_file in state_files:\n",
    "    # Extract state name from file name\n",
    "    # Handle compound state names properly\n",
    "    state_file_name = os.path.basename(state_file)\n",
    "    state_name = state_file_name.split('_cleaned_temperature_data.csv')[0].replace('_', ' ').title()\n",
    "    print(f\"\\nProcessing state: {state_name}\")\n",
    "    \n",
    "    # Read state's temperature data\n",
    "    state_temp = pd.read_csv(state_file)\n",
    "    print(f\"Temperature data shape: {state_temp.shape}\")\n",
    "    \n",
    "    # Print to verify we have matching records in electricity data\n",
    "    state_elec = elec_df[elec_df['stateDescription'] == state_name]\n",
    "    print(f\"Electricity data shape for {state_name}: {state_elec.shape}\")\n",
    "    \n",
    "    # Add state name to temperature data\n",
    "    state_temp['stateDescription'] = state_name\n",
    "    \n",
    "    # Merge this state's data\n",
    "    state_merged = pd.merge(\n",
    "        state_elec,\n",
    "        state_temp[['year', 'month', 'stateDescription', 'tavg']],\n",
    "        on=['year', 'month', 'stateDescription'],\n",
    "        how='left'\n",
    "    )\n",
    "    print(f\"Merged shape: {state_merged.shape}\")\n",
    "    \n",
    "    # Add to our list of merged states\n",
    "    merged_states.append(state_merged)\n",
    "\n",
    "print(f\"\\nTotal states processed: {len(merged_states)}\")"
   ]
  },
  {
   "cell_type": "markdown",
   "metadata": {},
   "source": [
    "## Merging the list with all Temperature data into Electricity dataset\n",
    "\n",
    "### Concatening\n",
    "First we concatenate all of Temperature data on top of each other, ignore_index means to have consistent index for all the dataset as one big dataset\n",
    "\n",
    "### Sorting\n",
    "Sort the merged dataset by states first then year and then month \n",
    "\n",
    "### Save\n",
    "Everything is saved into a csv file \n",
    "\n",
    "### Prints\n",
    "Lastly, did some print statements on merged dataset to see if everything was merged fine"
   ]
  },
  {
   "cell_type": "code",
   "execution_count": 3,
   "metadata": {},
   "outputs": [
    {
     "name": "stdout",
     "output_type": "stream",
     "text": [
      "\n",
      "Final merged dataset info:\n",
      "Total number of records: 13850\n",
      "Number of states: 50\n",
      "Date range: 2001-1 to 2024-12\n",
      "\n",
      "First few rows:\n",
      "   year  month stateDescription   sectorName  price    revenue       sales  \\\n",
      "0  2001      1          Alabama  all sectors   5.54  407.61261  7362.47302   \n",
      "1  2001      2          Alabama  all sectors   5.31  321.06715  6041.02574   \n",
      "2  2001      3          Alabama  all sectors   5.87  345.77802  5894.61038   \n",
      "3  2001      4          Alabama  all sectors   5.72  347.18634  6064.53539   \n",
      "4  2001      5          Alabama  all sectors   5.60  359.09236  6413.96530   \n",
      "\n",
      "   tavg  \n",
      "0  43.7  \n",
      "1  55.0  \n",
      "2  53.4  \n",
      "3  66.0  \n",
      "4  72.2  \n"
     ]
    }
   ],
   "source": [
    "# 5. Combine all states into one DataFrame\n",
    "final_df = pd.concat(merged_states, ignore_index=True)\n",
    "\n",
    "# 6. Sort the data by state, year, and month\n",
    "final_df = final_df.sort_values(['stateDescription', 'year', 'month'])\n",
    "\n",
    "# 7. Save to new CSV file\n",
    "final_df.to_csv('../datasets/merged_electricity_temperature_data.csv', index=False)\n",
    "\n",
    "# 8. Print some information about the final dataset\n",
    "print(\"\\nFinal merged dataset info:\")\n",
    "print(f\"Total number of records: {len(final_df)}\")\n",
    "print(f\"Number of states: {final_df['stateDescription'].nunique()}\")\n",
    "print(f\"Date range: {final_df['year'].min()}-{final_df['month'].min()} to {final_df['year'].max()}-{final_df['month'].max()}\")\n",
    "print(\"\\nFirst few rows:\")\n",
    "print(final_df.head())"
   ]
  }
 ],
 "metadata": {
  "kernelspec": {
   "display_name": "venv",
   "language": "python",
   "name": "python3"
  },
  "language_info": {
   "codemirror_mode": {
    "name": "ipython",
    "version": 3
   },
   "file_extension": ".py",
   "mimetype": "text/x-python",
   "name": "python",
   "nbconvert_exporter": "python",
   "pygments_lexer": "ipython3",
   "version": "3.12.4"
  }
 },
 "nbformat": 4,
 "nbformat_minor": 2
}
