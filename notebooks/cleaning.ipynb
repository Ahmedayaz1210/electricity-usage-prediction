{
 "cells": [
  {
   "cell_type": "code",
   "execution_count": 17,
   "metadata": {},
   "outputs": [
    {
     "name": "stdout",
     "output_type": "stream",
     "text": [
      "   year  month stateDescription   sectorName  customers  price   revenue  \\\n",
      "0  2001      1          Wyoming  all sectors        NaN   4.31  48.12840   \n",
      "1  2001      1          Wyoming   commercial        NaN   5.13  12.67978   \n",
      "2  2001      1          Wyoming   industrial        NaN   3.26  19.60858   \n",
      "3  2001      1          Wyoming        other        NaN   4.75   0.76868   \n",
      "4  2001      1          Wyoming  residential        NaN   6.01  15.07136   \n",
      "\n",
      "        sales  \n",
      "0  1116.17208  \n",
      "1   247.08691  \n",
      "2   602.30484  \n",
      "3    16.17442  \n",
      "4   250.60591  \n",
      "<class 'pandas.core.frame.DataFrame'>\n",
      "RangeIndex: 85870 entries, 0 to 85869\n",
      "Data columns (total 8 columns):\n",
      " #   Column            Non-Null Count  Dtype  \n",
      "---  ------            --------------  -----  \n",
      " 0   year              85870 non-null  int64  \n",
      " 1   month             85870 non-null  int64  \n",
      " 2   stateDescription  85870 non-null  object \n",
      " 3   sectorName        85870 non-null  object \n",
      " 4   customers         59830 non-null  float64\n",
      " 5   price             85870 non-null  float64\n",
      " 6   revenue           85870 non-null  float64\n",
      " 7   sales             85870 non-null  float64\n",
      "dtypes: float64(4), int64(2), object(2)\n",
      "memory usage: 5.2+ MB\n",
      "None\n",
      "['all sectors' 'commercial' 'industrial' 'other' 'residential'\n",
      " 'transportation']\n"
     ]
    },
    {
     "name": "stderr",
     "output_type": "stream",
     "text": [
      "<>:3: SyntaxWarning: invalid escape sequence '\\d'\n",
      "<>:3: SyntaxWarning: invalid escape sequence '\\d'\n",
      "C:\\Users\\Ahmed Ayaz\\AppData\\Local\\Temp\\ipykernel_35024\\2571913739.py:3: SyntaxWarning: invalid escape sequence '\\d'\n",
      "  df = pd.read_csv('..\\datasets\\electricity_usage_data.csv')\n"
     ]
    }
   ],
   "source": [
    "import pandas as pd\n",
    "\n",
    "df = pd.read_csv('..\\datasets\\electricity_usage_data.csv')\n",
    "\n",
    "# Displaying the first 5 rows of the dataframe\n",
    "print(df.head())\n",
    "\n",
    "# Getting information about the dataframe\n",
    "print(df.info())\n",
    "print(df['sectorName'].unique())\n"
   ]
  },
  {
   "cell_type": "code",
   "execution_count": 11,
   "metadata": {},
   "outputs": [
    {
     "name": "stdout",
     "output_type": "stream",
     "text": [
      "\n",
      "Original DataFrame shape: (85870, 8)\n",
      "DataFrame with only 50 US states: (69250, 8)\n",
      "\n",
      "Unique states after filtering:\n",
      "['Wyoming' 'South Carolina' 'South Dakota' 'Tennessee' 'Texas' 'Utah'\n",
      " 'Vermont' 'Virginia' 'Washington' 'West Virginia' 'Wisconsin' 'Alabama'\n",
      " 'Louisiana' 'Maine' 'Maryland' 'Massachusetts' 'Michigan' 'Minnesota'\n",
      " 'Mississippi' 'Missouri' 'Montana' 'Nebraska' 'Nevada' 'New Hampshire'\n",
      " 'New Jersey' 'New Mexico' 'New York' 'North Carolina' 'North Dakota'\n",
      " 'Ohio' 'Oklahoma' 'Oregon' 'Rhode Island' 'Alaska' 'Arizona' 'Georgia'\n",
      " 'Hawaii' 'Idaho' 'Illinois' 'Indiana' 'Iowa' 'Kansas' 'Kentucky'\n",
      " 'Arkansas' 'California' 'Colorado' 'Connecticut' 'Delaware' 'Florida'\n",
      " 'Pennsylvania']\n",
      "       year  month stateDescription      sectorName  customers  price  \\\n",
      "0      2001      1          Wyoming     all sectors        NaN   4.31   \n",
      "1      2001      1          Wyoming      commercial        NaN   5.13   \n",
      "2      2001      1          Wyoming      industrial        NaN   3.26   \n",
      "3      2001      1          Wyoming           other        NaN   4.75   \n",
      "4      2001      1          Wyoming     residential        NaN   6.01   \n",
      "...     ...    ...              ...             ...        ...    ...   \n",
      "85865  2024      1         Arkansas     all sectors  1717720.0   9.63   \n",
      "85866  2024      1         Arkansas      commercial   208669.0  10.26   \n",
      "85867  2024      1         Arkansas      industrial    34951.0   7.08   \n",
      "85868  2024      1         Arkansas     residential  1474098.0  11.24   \n",
      "85869  2024      1         Arkansas  transportation        2.0  12.70   \n",
      "\n",
      "         revenue       sales  \n",
      "0       48.12840  1116.17208  \n",
      "1       12.67978   247.08691  \n",
      "2       19.60858   602.30484  \n",
      "3        0.76868    16.17442  \n",
      "4       15.07136   250.60591  \n",
      "...          ...         ...  \n",
      "85865  442.98773  4598.63147  \n",
      "85866   97.79467   953.02154  \n",
      "85867  109.92656  1553.02838  \n",
      "85868  235.26399  2092.56172  \n",
      "85869    0.00252     0.01984  \n",
      "\n",
      "[69250 rows x 8 columns]\n"
     ]
    }
   ],
   "source": [
    "us_states = [\n",
    "    \"Alabama\", \"Alaska\", \"Arizona\", \"Arkansas\", \"California\", \"Colorado\", \"Connecticut\", \"Delaware\", \"Florida\", \"Georgia\", \n",
    "    \"Hawaii\", \"Idaho\", \"Illinois\", \"Indiana\", \"Iowa\", \"Kansas\", \"Kentucky\", \"Louisiana\", \"Maine\", \"Maryland\", \n",
    "    \"Massachusetts\", \"Michigan\", \"Minnesota\", \"Mississippi\", \"Missouri\", \"Montana\", \"Nebraska\", \"Nevada\", \"New Hampshire\", \"New Jersey\", \n",
    "    \"New Mexico\", \"New York\", \"North Carolina\", \"North Dakota\", \"Ohio\", \"Oklahoma\", \"Oregon\", \"Pennsylvania\", \"Rhode Island\", \"South Carolina\", \n",
    "    \"South Dakota\", \"Tennessee\", \"Texas\", \"Utah\", \"Vermont\", \"Virginia\", \"Washington\", \"West Virginia\", \"Wisconsin\", \"Wyoming\"\n",
    "]\n",
    "\n",
    "df_states = df[df['stateDescription'].isin(us_states)]\n",
    "\n",
    "print(f\"\\nOriginal DataFrame shape: {df.shape}\")\n",
    "print(f\"DataFrame with only 50 US states: {df_states.shape}\")\n",
    "\n",
    "print(\"\\nUnique states after filtering:\")\n",
    "print(df_states['stateDescription'].unique())\n",
    "print(df_states)\n"
   ]
  },
  {
   "cell_type": "code",
   "execution_count": 12,
   "metadata": {},
   "outputs": [
    {
     "name": "stdout",
     "output_type": "stream",
     "text": [
      "\n",
      "Original DataFrame shape: (85870, 8)\n",
      "DataFrame with only 50 US states and 'customers' column removed: (69250, 7)\n",
      "\n",
      "Columns after removing 'customers':\n",
      "Index(['year', 'month', 'stateDescription', 'sectorName', 'price', 'revenue',\n",
      "       'sales'],\n",
      "      dtype='object')\n"
     ]
    }
   ],
   "source": [
    "df_states = df_states.drop('customers', axis=1)\n",
    "\n",
    "# Print the shape of the new DataFrame to see how many rows were kept\n",
    "print(f\"\\nOriginal DataFrame shape: {df.shape}\")\n",
    "print(f\"DataFrame with only 50 US states and 'customers' column removed: {df_states.shape}\")\n",
    "\n",
    "# Print column names to verify 'customers' has been removed\n",
    "print(\"\\nColumns after removing 'customers':\")\n",
    "print(df_states.columns)"
   ]
  },
  {
   "cell_type": "code",
   "execution_count": 16,
   "metadata": {},
   "outputs": [
    {
     "name": "stdout",
     "output_type": "stream",
     "text": [
      "DataFrame with only 'all sectors': (13850, 7)\n",
      "\n",
      "First few rows of the filtered DataFrame:\n",
      "    year  month stateDescription   sectorName  price     revenue        sales\n",
      "0   2001      1          Wyoming  all sectors   4.31    48.12840   1116.17208\n",
      "8   2001      1     South Dakota  all sectors   5.85    46.98518    803.24177\n",
      "13  2001      1        Tennessee  all sectors   5.59   539.11548   9648.54559\n",
      "18  2001      1            Texas  all sectors   6.90  1903.81241  27583.76887\n",
      "23  2001      1             Utah  all sectors   4.67    95.25759   2039.95489\n",
      "\n",
      "Unique values in 'sectorName' after filtering:\n",
      "['all sectors']\n"
     ]
    }
   ],
   "source": [
    "df_filtered = df_states[df_states['sectorName'] == 'all sectors']\n",
    "print(f\"DataFrame with only 'all sectors': {df_filtered.shape}\")\n",
    "\n",
    "print(\"\\nFirst few rows of the filtered DataFrame:\")\n",
    "print(df_filtered.head())\n",
    "\n",
    "print(\"\\nUnique values in 'sectorName' after filtering:\")\n",
    "print(df_filtered['sectorName'].unique())\n"
   ]
  },
  {
   "cell_type": "code",
   "execution_count": 19,
   "metadata": {},
   "outputs": [
    {
     "name": "stdout",
     "output_type": "stream",
     "text": [
      "(13850, 7)\n",
      "Data has been saved to 'cleaned_electricity_usage_data.csv'\n"
     ]
    },
    {
     "name": "stderr",
     "output_type": "stream",
     "text": [
      "<>:1: SyntaxWarning: invalid escape sequence '\\d'\n",
      "<>:1: SyntaxWarning: invalid escape sequence '\\d'\n",
      "C:\\Users\\Ahmed Ayaz\\AppData\\Local\\Temp\\ipykernel_35024\\769332520.py:1: SyntaxWarning: invalid escape sequence '\\d'\n",
      "  df_filtered.to_csv('..\\datasets\\cleaned_electricity_usage_data.csv', index=False)\n"
     ]
    }
   ],
   "source": [
    "df_filtered.to_csv('..\\datasets\\cleaned_electricity_usage_data.csv', index=False)\n",
    "print(df_filtered.shape)\n",
    "print(\"Data has been saved to 'cleaned_electricity_usage_data.csv'\")"
   ]
  }
 ],
 "metadata": {
  "kernelspec": {
   "display_name": "venv",
   "language": "python",
   "name": "python3"
  },
  "language_info": {
   "codemirror_mode": {
    "name": "ipython",
    "version": 3
   },
   "file_extension": ".py",
   "mimetype": "text/x-python",
   "name": "python",
   "nbconvert_exporter": "python",
   "pygments_lexer": "ipython3",
   "version": "3.12.4"
  }
 },
 "nbformat": 4,
 "nbformat_minor": 2
}
