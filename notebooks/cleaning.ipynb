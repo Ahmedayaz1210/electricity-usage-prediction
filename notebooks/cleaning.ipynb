{
 "cells": [
  {
   "cell_type": "code",
   "execution_count": 7,
   "metadata": {},
   "outputs": [
    {
     "name": "stdout",
     "output_type": "stream",
     "text": [
      "   year  month stateDescription   sectorName  customers  price   revenue  \\\n",
      "0  2001      1          Wyoming  all sectors        NaN   4.31  48.12840   \n",
      "1  2001      1          Wyoming   commercial        NaN   5.13  12.67978   \n",
      "2  2001      1          Wyoming   industrial        NaN   3.26  19.60858   \n",
      "3  2001      1          Wyoming        other        NaN   4.75   0.76868   \n",
      "4  2001      1          Wyoming  residential        NaN   6.01  15.07136   \n",
      "\n",
      "        sales  \n",
      "0  1116.17208  \n",
      "1   247.08691  \n",
      "2   602.30484  \n",
      "3    16.17442  \n",
      "4   250.60591  \n",
      "<class 'pandas.core.frame.DataFrame'>\n",
      "RangeIndex: 85870 entries, 0 to 85869\n",
      "Data columns (total 8 columns):\n",
      " #   Column            Non-Null Count  Dtype  \n",
      "---  ------            --------------  -----  \n",
      " 0   year              85870 non-null  int64  \n",
      " 1   month             85870 non-null  int64  \n",
      " 2   stateDescription  85870 non-null  object \n",
      " 3   sectorName        85870 non-null  object \n",
      " 4   customers         59830 non-null  float64\n",
      " 5   price             85870 non-null  float64\n",
      " 6   revenue           85870 non-null  float64\n",
      " 7   sales             85870 non-null  float64\n",
      "dtypes: float64(4), int64(2), object(2)\n",
      "memory usage: 5.2+ MB\n",
      "None\n"
     ]
    },
    {
     "name": "stderr",
     "output_type": "stream",
     "text": [
      "<>:4: SyntaxWarning: invalid escape sequence '\\d'\n",
      "<>:4: SyntaxWarning: invalid escape sequence '\\d'\n",
      "C:\\Users\\Ahmed Ayaz\\AppData\\Local\\Temp\\ipykernel_35024\\1239822826.py:4: SyntaxWarning: invalid escape sequence '\\d'\n",
      "  df = pd.read_csv('..\\datasets\\electricity_usage_data.csv')\n"
     ]
    }
   ],
   "source": [
    "import pandas as pd\n",
    "\n",
    "df = pd.read_csv('..\\datasets\\electricity_usage_data.csv')\n",
    "\n",
    "# Display the first few rows of the dataframe\n",
    "print(df.head())\n",
    "\n",
    "# Get information about the dataframe\n",
    "print(df.info())"
   ]
  }
 ],
 "metadata": {
  "kernelspec": {
   "display_name": "venv",
   "language": "python",
   "name": "python3"
  },
  "language_info": {
   "codemirror_mode": {
    "name": "ipython",
    "version": 3
   },
   "file_extension": ".py",
   "mimetype": "text/x-python",
   "name": "python",
   "nbconvert_exporter": "python",
   "pygments_lexer": "ipython3",
   "version": "3.12.4"
  }
 },
 "nbformat": 4,
 "nbformat_minor": 2
}
